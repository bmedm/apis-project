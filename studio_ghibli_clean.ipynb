{
 "cells": [
  {
   "cell_type": "code",
   "execution_count": 1,
   "metadata": {},
   "outputs": [],
   "source": [
    "#Importamos todas las librerias\n",
    "import numpy as np\n",
    "import pandas as pd\n",
    "import re\n",
    "import json\n",
    "import urllib\n",
    "import requests\n",
    "from pandas import json_normalize\n",
    "import os\n",
    "from dotenv import load_dotenv\n",
    "load_dotenv()\n",
    "import src.source as src"
   ]
  },
  {
   "cell_type": "code",
   "execution_count": 2,
   "metadata": {},
   "outputs": [
    {
     "data": {
      "text/html": [
       "<div>\n",
       "<style scoped>\n",
       "    .dataframe tbody tr th:only-of-type {\n",
       "        vertical-align: middle;\n",
       "    }\n",
       "\n",
       "    .dataframe tbody tr th {\n",
       "        vertical-align: top;\n",
       "    }\n",
       "\n",
       "    .dataframe thead th {\n",
       "        text-align: right;\n",
       "    }\n",
       "</style>\n",
       "<table border=\"1\" class=\"dataframe\">\n",
       "  <thead>\n",
       "    <tr style=\"text-align: right;\">\n",
       "      <th></th>\n",
       "      <th>rt</th>\n",
       "      <th>music</th>\n",
       "      <th>producer_s</th>\n",
       "      <th>screenwriter_s</th>\n",
       "      <th>director</th>\n",
       "      <th>title</th>\n",
       "      <th>year</th>\n",
       "    </tr>\n",
       "  </thead>\n",
       "  <tbody>\n",
       "    <tr>\n",
       "      <th>0</th>\n",
       "      <td>NaN</td>\n",
       "      <td>95%</td>\n",
       "      <td>Joe Hisaishi</td>\n",
       "      <td>Isao Takahata</td>\n",
       "      <td>Hayao Miyazaki</td>\n",
       "      <td>Castle in the Sky</td>\n",
       "      <td>1986 August</td>\n",
       "    </tr>\n",
       "    <tr>\n",
       "      <th>1</th>\n",
       "      <td>NaN</td>\n",
       "      <td>97%</td>\n",
       "      <td>Michio Mamiya</td>\n",
       "      <td>TÅru Hara</td>\n",
       "      <td>Isao Takahata</td>\n",
       "      <td>Grave of the Fireflies</td>\n",
       "      <td>1988 April</td>\n",
       "    </tr>\n",
       "  </tbody>\n",
       "</table>\n",
       "</div>"
      ],
      "text/plain": [
       "    rt music     producer_s screenwriter_s        director  \\\n",
       "0  NaN   95%   Joe Hisaishi  Isao Takahata  Hayao Miyazaki   \n",
       "1  NaN   97%  Michio Mamiya     TÅru Hara   Isao Takahata   \n",
       "\n",
       "                    title         year  \n",
       "0       Castle in the Sky  1986 August  \n",
       "1  Grave of the Fireflies   1988 April  "
      ]
     },
     "execution_count": 2,
     "metadata": {},
     "output_type": "execute_result"
    }
   ],
   "source": [
    "#importamos dataframe\n",
    "ghibli= pd.read_csv('input/studio_ghibli.csv',encoding='latin-1')\n",
    "ghibli.head(2)"
   ]
  },
  {
   "cell_type": "code",
   "execution_count": 3,
   "metadata": {},
   "outputs": [],
   "source": [
    "ghibli=ghibli[['producer_s','screenwriter_s','director','title','year']]"
   ]
  },
  {
   "cell_type": "code",
   "execution_count": 4,
   "metadata": {},
   "outputs": [],
   "source": [
    "def geturl(path=\"films/\",ids=\"dc2e6bd1-8156-4886-adff-b39e6043af0c\"):\n",
    "   \n",
    "    url = f\"https://ghibliapi.herokuapp.com/{path}{ids}\"\n",
    "    response = requests.request(\"GET\", url)\n",
    "    data=response.text\n",
    "    data1=json.loads(data)\n",
    "    flat_data=json_normalize(data1)\n",
    "    \n",
    "    return flat_data\n"
   ]
  },
  {
   "cell_type": "code",
   "execution_count": 5,
   "metadata": {},
   "outputs": [
    {
     "data": {
      "text/html": [
       "<div>\n",
       "<style scoped>\n",
       "    .dataframe tbody tr th:only-of-type {\n",
       "        vertical-align: middle;\n",
       "    }\n",
       "\n",
       "    .dataframe tbody tr th {\n",
       "        vertical-align: top;\n",
       "    }\n",
       "\n",
       "    .dataframe thead th {\n",
       "        text-align: right;\n",
       "    }\n",
       "</style>\n",
       "<table border=\"1\" class=\"dataframe\">\n",
       "  <thead>\n",
       "    <tr style=\"text-align: right;\">\n",
       "      <th></th>\n",
       "      <th>id</th>\n",
       "      <th>title</th>\n",
       "      <th>description</th>\n",
       "      <th>director</th>\n",
       "      <th>producer</th>\n",
       "      <th>release_date</th>\n",
       "      <th>rt_score</th>\n",
       "      <th>people</th>\n",
       "      <th>species</th>\n",
       "      <th>locations</th>\n",
       "      <th>vehicles</th>\n",
       "      <th>url</th>\n",
       "    </tr>\n",
       "  </thead>\n",
       "  <tbody>\n",
       "    <tr>\n",
       "      <th>0</th>\n",
       "      <td>2baf70d1-42bb-4437-b551-e5fed5a87abe</td>\n",
       "      <td>Castle in the Sky</td>\n",
       "      <td>The orphan Sheeta inherited a mysterious cryst...</td>\n",
       "      <td>Hayao Miyazaki</td>\n",
       "      <td>Isao Takahata</td>\n",
       "      <td>1986</td>\n",
       "      <td>95</td>\n",
       "      <td>[https://ghibliapi.herokuapp.com/people/]</td>\n",
       "      <td>[https://ghibliapi.herokuapp.com/species/af391...</td>\n",
       "      <td>[https://ghibliapi.herokuapp.com/locations/]</td>\n",
       "      <td>[https://ghibliapi.herokuapp.com/vehicles/]</td>\n",
       "      <td>https://ghibliapi.herokuapp.com/films/2baf70d1...</td>\n",
       "    </tr>\n",
       "    <tr>\n",
       "      <th>1</th>\n",
       "      <td>12cfb892-aac0-4c5b-94af-521852e46d6a</td>\n",
       "      <td>Grave of the Fireflies</td>\n",
       "      <td>In the latter part of World War II, a boy and ...</td>\n",
       "      <td>Isao Takahata</td>\n",
       "      <td>Toru Hara</td>\n",
       "      <td>1988</td>\n",
       "      <td>97</td>\n",
       "      <td>[https://ghibliapi.herokuapp.com/people/]</td>\n",
       "      <td>[https://ghibliapi.herokuapp.com/species/af391...</td>\n",
       "      <td>[https://ghibliapi.herokuapp.com/locations/]</td>\n",
       "      <td>[https://ghibliapi.herokuapp.com/vehicles/]</td>\n",
       "      <td>https://ghibliapi.herokuapp.com/films/12cfb892...</td>\n",
       "    </tr>\n",
       "  </tbody>\n",
       "</table>\n",
       "</div>"
      ],
      "text/plain": [
       "                                     id                   title  \\\n",
       "0  2baf70d1-42bb-4437-b551-e5fed5a87abe       Castle in the Sky   \n",
       "1  12cfb892-aac0-4c5b-94af-521852e46d6a  Grave of the Fireflies   \n",
       "\n",
       "                                         description        director  \\\n",
       "0  The orphan Sheeta inherited a mysterious cryst...  Hayao Miyazaki   \n",
       "1  In the latter part of World War II, a boy and ...   Isao Takahata   \n",
       "\n",
       "        producer release_date rt_score  \\\n",
       "0  Isao Takahata         1986       95   \n",
       "1      Toru Hara         1988       97   \n",
       "\n",
       "                                      people  \\\n",
       "0  [https://ghibliapi.herokuapp.com/people/]   \n",
       "1  [https://ghibliapi.herokuapp.com/people/]   \n",
       "\n",
       "                                             species  \\\n",
       "0  [https://ghibliapi.herokuapp.com/species/af391...   \n",
       "1  [https://ghibliapi.herokuapp.com/species/af391...   \n",
       "\n",
       "                                      locations  \\\n",
       "0  [https://ghibliapi.herokuapp.com/locations/]   \n",
       "1  [https://ghibliapi.herokuapp.com/locations/]   \n",
       "\n",
       "                                      vehicles  \\\n",
       "0  [https://ghibliapi.herokuapp.com/vehicles/]   \n",
       "1  [https://ghibliapi.herokuapp.com/vehicles/]   \n",
       "\n",
       "                                                 url  \n",
       "0  https://ghibliapi.herokuapp.com/films/2baf70d1...  \n",
       "1  https://ghibliapi.herokuapp.com/films/12cfb892...  "
      ]
     },
     "execution_count": 5,
     "metadata": {},
     "output_type": "execute_result"
    }
   ],
   "source": [
    "ghibliapi=src.geturl()\n",
    "ghibliapi.head(2)"
   ]
  },
  {
   "cell_type": "code",
   "execution_count": 6,
   "metadata": {},
   "outputs": [
    {
     "data": {
      "text/html": [
       "<div>\n",
       "<style scoped>\n",
       "    .dataframe tbody tr th:only-of-type {\n",
       "        vertical-align: middle;\n",
       "    }\n",
       "\n",
       "    .dataframe tbody tr th {\n",
       "        vertical-align: top;\n",
       "    }\n",
       "\n",
       "    .dataframe thead th {\n",
       "        text-align: right;\n",
       "    }\n",
       "</style>\n",
       "<table border=\"1\" class=\"dataframe\">\n",
       "  <thead>\n",
       "    <tr style=\"text-align: right;\">\n",
       "      <th></th>\n",
       "      <th>producer_s</th>\n",
       "      <th>screenwriter_s</th>\n",
       "      <th>director</th>\n",
       "      <th>title</th>\n",
       "      <th>year</th>\n",
       "    </tr>\n",
       "  </thead>\n",
       "  <tbody>\n",
       "    <tr>\n",
       "      <th>0</th>\n",
       "      <td>Joe Hisaishi</td>\n",
       "      <td>Isao Takahata</td>\n",
       "      <td>Hayao Miyazaki</td>\n",
       "      <td>Castle in the Sky</td>\n",
       "      <td>1986 August</td>\n",
       "    </tr>\n",
       "    <tr>\n",
       "      <th>17</th>\n",
       "      <td>85%</td>\n",
       "      <td>Satoshi Takebe</td>\n",
       "      <td>GorÅ Miyazaki</td>\n",
       "      <td>From Up on Poppy Hill</td>\n",
       "      <td>2011 July</td>\n",
       "    </tr>\n",
       "  </tbody>\n",
       "</table>\n",
       "</div>"
      ],
      "text/plain": [
       "      producer_s  screenwriter_s        director                  title  \\\n",
       "0   Joe Hisaishi   Isao Takahata  Hayao Miyazaki      Castle in the Sky   \n",
       "17           85%  Satoshi Takebe  GorÅ Miyazaki  From Up on Poppy Hill   \n",
       "\n",
       "           year  \n",
       "0   1986 August  \n",
       "17    2011 July  "
      ]
     },
     "execution_count": 6,
     "metadata": {},
     "output_type": "execute_result"
    }
   ],
   "source": [
    "sortedghibli=ghibli.sort_values('title')\n",
    "sortedghibli.head(2)\n"
   ]
  },
  {
   "cell_type": "code",
   "execution_count": 7,
   "metadata": {},
   "outputs": [
    {
     "data": {
      "text/html": [
       "<div>\n",
       "<style scoped>\n",
       "    .dataframe tbody tr th:only-of-type {\n",
       "        vertical-align: middle;\n",
       "    }\n",
       "\n",
       "    .dataframe tbody tr th {\n",
       "        vertical-align: top;\n",
       "    }\n",
       "\n",
       "    .dataframe thead th {\n",
       "        text-align: right;\n",
       "    }\n",
       "</style>\n",
       "<table border=\"1\" class=\"dataframe\">\n",
       "  <thead>\n",
       "    <tr style=\"text-align: right;\">\n",
       "      <th></th>\n",
       "      <th>index</th>\n",
       "      <th>id</th>\n",
       "      <th>title</th>\n",
       "      <th>description</th>\n",
       "      <th>director</th>\n",
       "      <th>producer</th>\n",
       "      <th>release_date</th>\n",
       "      <th>rt_score</th>\n",
       "    </tr>\n",
       "  </thead>\n",
       "  <tbody>\n",
       "    <tr>\n",
       "      <th>0</th>\n",
       "      <td>15</td>\n",
       "      <td>2de9426b-914a-4a06-a3a0-5e6d9d3886f6</td>\n",
       "      <td>Arrietty</td>\n",
       "      <td>14-year-old Arrietty and the rest of the Clock...</td>\n",
       "      <td>Hiromasa Yonebayashi</td>\n",
       "      <td>Toshio Suzuki</td>\n",
       "      <td>2010</td>\n",
       "      <td>95</td>\n",
       "    </tr>\n",
       "    <tr>\n",
       "      <th>1</th>\n",
       "      <td>0</td>\n",
       "      <td>2baf70d1-42bb-4437-b551-e5fed5a87abe</td>\n",
       "      <td>Castle in the Sky</td>\n",
       "      <td>The orphan Sheeta inherited a mysterious cryst...</td>\n",
       "      <td>Hayao Miyazaki</td>\n",
       "      <td>Isao Takahata</td>\n",
       "      <td>1986</td>\n",
       "      <td>95</td>\n",
       "    </tr>\n",
       "  </tbody>\n",
       "</table>\n",
       "</div>"
      ],
      "text/plain": [
       "   index                                    id              title  \\\n",
       "0     15  2de9426b-914a-4a06-a3a0-5e6d9d3886f6           Arrietty   \n",
       "1      0  2baf70d1-42bb-4437-b551-e5fed5a87abe  Castle in the Sky   \n",
       "\n",
       "                                         description              director  \\\n",
       "0  14-year-old Arrietty and the rest of the Clock...  Hiromasa Yonebayashi   \n",
       "1  The orphan Sheeta inherited a mysterious cryst...        Hayao Miyazaki   \n",
       "\n",
       "        producer release_date rt_score  \n",
       "0  Toshio Suzuki         2010       95  \n",
       "1  Isao Takahata         1986       95  "
      ]
     },
     "execution_count": 7,
     "metadata": {},
     "output_type": "execute_result"
    }
   ],
   "source": [
    "sortedghibliapi=ghibliapi.sort_values('title')\n",
    "sortedghibliapi=sortedghibliapi[['id','title','description','director','producer','release_date','rt_score']]\n",
    "sortedghibliapi.reset_index().head(2)"
   ]
  },
  {
   "cell_type": "markdown",
   "metadata": {},
   "source": [
    "-------"
   ]
  },
  {
   "cell_type": "code",
   "execution_count": 8,
   "metadata": {},
   "outputs": [
    {
     "data": {
      "text/plain": [
       "Index(['producer_s', 'screenwriter_s', 'director', 'title', 'year'], dtype='object')"
      ]
     },
     "execution_count": 8,
     "metadata": {},
     "output_type": "execute_result"
    }
   ],
   "source": [
    "sortedghibli.columns"
   ]
  },
  {
   "cell_type": "code",
   "execution_count": 9,
   "metadata": {},
   "outputs": [
    {
     "data": {
      "text/plain": [
       "Index(['id', 'title', 'description', 'director', 'producer', 'release_date',\n",
       "       'rt_score'],\n",
       "      dtype='object')"
      ]
     },
     "execution_count": 9,
     "metadata": {},
     "output_type": "execute_result"
    }
   ],
   "source": [
    "sortedghibliapi.columns"
   ]
  },
  {
   "cell_type": "code",
   "execution_count": 10,
   "metadata": {},
   "outputs": [
    {
     "data": {
      "text/html": [
       "<div>\n",
       "<style scoped>\n",
       "    .dataframe tbody tr th:only-of-type {\n",
       "        vertical-align: middle;\n",
       "    }\n",
       "\n",
       "    .dataframe tbody tr th {\n",
       "        vertical-align: top;\n",
       "    }\n",
       "\n",
       "    .dataframe thead th {\n",
       "        text-align: right;\n",
       "    }\n",
       "</style>\n",
       "<table border=\"1\" class=\"dataframe\">\n",
       "  <thead>\n",
       "    <tr style=\"text-align: right;\">\n",
       "      <th></th>\n",
       "      <th>producer</th>\n",
       "      <th>screenwriter</th>\n",
       "      <th>director</th>\n",
       "      <th>title</th>\n",
       "      <th>year</th>\n",
       "    </tr>\n",
       "  </thead>\n",
       "  <tbody>\n",
       "    <tr>\n",
       "      <th>0</th>\n",
       "      <td>Joe Hisaishi</td>\n",
       "      <td>Isao Takahata</td>\n",
       "      <td>Hayao Miyazaki</td>\n",
       "      <td>Castle in the Sky</td>\n",
       "      <td>1986 August</td>\n",
       "    </tr>\n",
       "    <tr>\n",
       "      <th>17</th>\n",
       "      <td>85%</td>\n",
       "      <td>Satoshi Takebe</td>\n",
       "      <td>GorÅ Miyazaki</td>\n",
       "      <td>From Up on Poppy Hill</td>\n",
       "      <td>2011 July</td>\n",
       "    </tr>\n",
       "  </tbody>\n",
       "</table>\n",
       "</div>"
      ],
      "text/plain": [
       "        producer    screenwriter        director                  title  \\\n",
       "0   Joe Hisaishi   Isao Takahata  Hayao Miyazaki      Castle in the Sky   \n",
       "17           85%  Satoshi Takebe  GorÅ Miyazaki  From Up on Poppy Hill   \n",
       "\n",
       "           year  \n",
       "0   1986 August  \n",
       "17    2011 July  "
      ]
     },
     "execution_count": 10,
     "metadata": {},
     "output_type": "execute_result"
    }
   ],
   "source": [
    "sortedghibli=sortedghibli.rename(columns={\"producer_s\":\"producer\",\"screenwriter_s\":\"screenwriter\"})\n",
    "sortedghibli.head(2)"
   ]
  },
  {
   "cell_type": "code",
   "execution_count": 11,
   "metadata": {},
   "outputs": [
    {
     "data": {
      "text/html": [
       "<div>\n",
       "<style scoped>\n",
       "    .dataframe tbody tr th:only-of-type {\n",
       "        vertical-align: middle;\n",
       "    }\n",
       "\n",
       "    .dataframe tbody tr th {\n",
       "        vertical-align: top;\n",
       "    }\n",
       "\n",
       "    .dataframe thead th {\n",
       "        text-align: right;\n",
       "    }\n",
       "</style>\n",
       "<table border=\"1\" class=\"dataframe\">\n",
       "  <thead>\n",
       "    <tr style=\"text-align: right;\">\n",
       "      <th></th>\n",
       "      <th>id</th>\n",
       "      <th>title</th>\n",
       "      <th>description</th>\n",
       "      <th>director</th>\n",
       "      <th>producer</th>\n",
       "      <th>year</th>\n",
       "      <th>score</th>\n",
       "    </tr>\n",
       "  </thead>\n",
       "  <tbody>\n",
       "    <tr>\n",
       "      <th>15</th>\n",
       "      <td>2de9426b-914a-4a06-a3a0-5e6d9d3886f6</td>\n",
       "      <td>Arrietty</td>\n",
       "      <td>14-year-old Arrietty and the rest of the Clock...</td>\n",
       "      <td>Hiromasa Yonebayashi</td>\n",
       "      <td>Toshio Suzuki</td>\n",
       "      <td>2010</td>\n",
       "      <td>95</td>\n",
       "    </tr>\n",
       "    <tr>\n",
       "      <th>0</th>\n",
       "      <td>2baf70d1-42bb-4437-b551-e5fed5a87abe</td>\n",
       "      <td>Castle in the Sky</td>\n",
       "      <td>The orphan Sheeta inherited a mysterious cryst...</td>\n",
       "      <td>Hayao Miyazaki</td>\n",
       "      <td>Isao Takahata</td>\n",
       "      <td>1986</td>\n",
       "      <td>95</td>\n",
       "    </tr>\n",
       "  </tbody>\n",
       "</table>\n",
       "</div>"
      ],
      "text/plain": [
       "                                      id              title  \\\n",
       "15  2de9426b-914a-4a06-a3a0-5e6d9d3886f6           Arrietty   \n",
       "0   2baf70d1-42bb-4437-b551-e5fed5a87abe  Castle in the Sky   \n",
       "\n",
       "                                          description              director  \\\n",
       "15  14-year-old Arrietty and the rest of the Clock...  Hiromasa Yonebayashi   \n",
       "0   The orphan Sheeta inherited a mysterious cryst...        Hayao Miyazaki   \n",
       "\n",
       "         producer  year score  \n",
       "15  Toshio Suzuki  2010    95  \n",
       "0   Isao Takahata  1986    95  "
      ]
     },
     "execution_count": 11,
     "metadata": {},
     "output_type": "execute_result"
    }
   ],
   "source": [
    "sortedghibliapi=sortedghibliapi.rename(columns={\"release_date\":\"year\",\"rt_score\":\"score\"})\n",
    "sortedghibliapi.head(2)"
   ]
  },
  {
   "cell_type": "code",
   "execution_count": 12,
   "metadata": {},
   "outputs": [
    {
     "data": {
      "text/html": [
       "<div>\n",
       "<style scoped>\n",
       "    .dataframe tbody tr th:only-of-type {\n",
       "        vertical-align: middle;\n",
       "    }\n",
       "\n",
       "    .dataframe tbody tr th {\n",
       "        vertical-align: top;\n",
       "    }\n",
       "\n",
       "    .dataframe thead th {\n",
       "        text-align: right;\n",
       "    }\n",
       "</style>\n",
       "<table border=\"1\" class=\"dataframe\">\n",
       "  <thead>\n",
       "    <tr style=\"text-align: right;\">\n",
       "      <th></th>\n",
       "      <th>id</th>\n",
       "      <th>title</th>\n",
       "      <th>screenwriter</th>\n",
       "      <th>producer</th>\n",
       "      <th>director</th>\n",
       "      <th>description</th>\n",
       "      <th>year</th>\n",
       "      <th>score</th>\n",
       "    </tr>\n",
       "  </thead>\n",
       "  <tbody>\n",
       "    <tr>\n",
       "      <th>0</th>\n",
       "      <td>2baf70d1-42bb-4437-b551-e5fed5a87abe</td>\n",
       "      <td>Castle in the Sky</td>\n",
       "      <td>Isao Takahata</td>\n",
       "      <td>Isao Takahata</td>\n",
       "      <td>Hayao Miyazaki</td>\n",
       "      <td>The orphan Sheeta inherited a mysterious cryst...</td>\n",
       "      <td>1986</td>\n",
       "      <td>95</td>\n",
       "    </tr>\n",
       "    <tr>\n",
       "      <th>1</th>\n",
       "      <td>45db04e4-304a-4933-9823-33f389e8d74d</td>\n",
       "      <td>From Up on Poppy Hill</td>\n",
       "      <td>Satoshi Takebe</td>\n",
       "      <td>Toshio Suzuki</td>\n",
       "      <td>Gorō Miyazaki</td>\n",
       "      <td>The story is set in 1963 in Yokohama. Kokuriko...</td>\n",
       "      <td>2011</td>\n",
       "      <td>83</td>\n",
       "    </tr>\n",
       "    <tr>\n",
       "      <th>2</th>\n",
       "      <td>12cfb892-aac0-4c5b-94af-521852e46d6a</td>\n",
       "      <td>Grave of the Fireflies</td>\n",
       "      <td>TÅru Hara</td>\n",
       "      <td>Toru Hara</td>\n",
       "      <td>Isao Takahata</td>\n",
       "      <td>In the latter part of World War II, a boy and ...</td>\n",
       "      <td>1988</td>\n",
       "      <td>97</td>\n",
       "    </tr>\n",
       "    <tr>\n",
       "      <th>3</th>\n",
       "      <td>cd3d059c-09f4-4ff3-8d63-bc765a5184fa</td>\n",
       "      <td>Howl's Moving Castle</td>\n",
       "      <td>Toshio Suzuki</td>\n",
       "      <td>Toshio Suzuki</td>\n",
       "      <td>Hayao Miyazaki</td>\n",
       "      <td>When Sophie, a shy young woman, is cursed with...</td>\n",
       "      <td>2004</td>\n",
       "      <td>87</td>\n",
       "    </tr>\n",
       "    <tr>\n",
       "      <th>4</th>\n",
       "      <td>ea660b10-85c4-4ae3-8a5f-41cea3648e3e</td>\n",
       "      <td>Kiki's Delivery Service</td>\n",
       "      <td>97%</td>\n",
       "      <td>Hayao Miyazaki</td>\n",
       "      <td>Hayao Miyazaki</td>\n",
       "      <td>A young witch, on her mandatory year of indepe...</td>\n",
       "      <td>1989</td>\n",
       "      <td>96</td>\n",
       "    </tr>\n",
       "  </tbody>\n",
       "</table>\n",
       "</div>"
      ],
      "text/plain": [
       "                                     id                    title  \\\n",
       "0  2baf70d1-42bb-4437-b551-e5fed5a87abe        Castle in the Sky   \n",
       "1  45db04e4-304a-4933-9823-33f389e8d74d    From Up on Poppy Hill   \n",
       "2  12cfb892-aac0-4c5b-94af-521852e46d6a   Grave of the Fireflies   \n",
       "3  cd3d059c-09f4-4ff3-8d63-bc765a5184fa     Howl's Moving Castle   \n",
       "4  ea660b10-85c4-4ae3-8a5f-41cea3648e3e  Kiki's Delivery Service   \n",
       "\n",
       "     screenwriter        producer        director  \\\n",
       "0   Isao Takahata   Isao Takahata  Hayao Miyazaki   \n",
       "1  Satoshi Takebe   Toshio Suzuki   Gorō Miyazaki   \n",
       "2      TÅru Hara       Toru Hara   Isao Takahata   \n",
       "3   Toshio Suzuki   Toshio Suzuki  Hayao Miyazaki   \n",
       "4             97%  Hayao Miyazaki  Hayao Miyazaki   \n",
       "\n",
       "                                         description  year score  \n",
       "0  The orphan Sheeta inherited a mysterious cryst...  1986    95  \n",
       "1  The story is set in 1963 in Yokohama. Kokuriko...  2011    83  \n",
       "2  In the latter part of World War II, a boy and ...  1988    97  \n",
       "3  When Sophie, a shy young woman, is cursed with...  2004    87  \n",
       "4  A young witch, on her mandatory year of indepe...  1989    96  "
      ]
     },
     "execution_count": 12,
     "metadata": {},
     "output_type": "execute_result"
    }
   ],
   "source": [
    "a=src.merge(sortedghibli,sortedghibliapi,'title','right')\n",
    "\n",
    "a=a[['id','title','screenwriter','producer_y','director_y','description','year_y','score']]\n",
    "a=a.rename(columns={\"producer_y\":\"producer\",\"director_y\":\"director\",\"year_y\":\"year\"})\n",
    "a.head()"
   ]
  },
  {
   "cell_type": "code",
   "execution_count": 13,
   "metadata": {},
   "outputs": [
    {
     "data": {
      "text/html": [
       "<div>\n",
       "<style scoped>\n",
       "    .dataframe tbody tr th:only-of-type {\n",
       "        vertical-align: middle;\n",
       "    }\n",
       "\n",
       "    .dataframe tbody tr th {\n",
       "        vertical-align: top;\n",
       "    }\n",
       "\n",
       "    .dataframe thead th {\n",
       "        text-align: right;\n",
       "    }\n",
       "</style>\n",
       "<table border=\"1\" class=\"dataframe\">\n",
       "  <thead>\n",
       "    <tr style=\"text-align: right;\">\n",
       "      <th></th>\n",
       "      <th>id</th>\n",
       "      <th>title</th>\n",
       "      <th>screenwriter</th>\n",
       "      <th>producer</th>\n",
       "      <th>director</th>\n",
       "      <th>description</th>\n",
       "      <th>year</th>\n",
       "      <th>score</th>\n",
       "    </tr>\n",
       "  </thead>\n",
       "  <tbody>\n",
       "    <tr>\n",
       "      <th>0</th>\n",
       "      <td>2baf70d1-42bb-4437-b551-e5fed5a87abe</td>\n",
       "      <td>Castle in the Sky</td>\n",
       "      <td>Isao Takahata</td>\n",
       "      <td>Isao Takahata</td>\n",
       "      <td>Hayao Miyazaki</td>\n",
       "      <td>The orphan Sheeta inherited a mysterious cryst...</td>\n",
       "      <td>1986</td>\n",
       "      <td>95</td>\n",
       "    </tr>\n",
       "    <tr>\n",
       "      <th>1</th>\n",
       "      <td>58611129-2dbc-4a81-a72f-77ddfc1b1b49</td>\n",
       "      <td>My Neighbor Totoro</td>\n",
       "      <td>NaN</td>\n",
       "      <td>Hayao Miyazaki</td>\n",
       "      <td>Hayao Miyazaki</td>\n",
       "      <td>Two sisters move to the country with their fat...</td>\n",
       "      <td>1988</td>\n",
       "      <td>93</td>\n",
       "    </tr>\n",
       "  </tbody>\n",
       "</table>\n",
       "</div>"
      ],
      "text/plain": [
       "                                     id               title   screenwriter  \\\n",
       "0  2baf70d1-42bb-4437-b551-e5fed5a87abe   Castle in the Sky  Isao Takahata   \n",
       "1  58611129-2dbc-4a81-a72f-77ddfc1b1b49  My Neighbor Totoro            NaN   \n",
       "\n",
       "         producer        director  \\\n",
       "0   Isao Takahata  Hayao Miyazaki   \n",
       "1  Hayao Miyazaki  Hayao Miyazaki   \n",
       "\n",
       "                                         description  year score  \n",
       "0  The orphan Sheeta inherited a mysterious cryst...  1986    95  \n",
       "1  Two sisters move to the country with their fat...  1988    93  "
      ]
     },
     "execution_count": 13,
     "metadata": {},
     "output_type": "execute_result"
    }
   ],
   "source": [
    "a=a.sort_values('year')\n",
    "a=a.reset_index()\n",
    "del(a['index'])\n",
    "a.head(2)"
   ]
  },
  {
   "cell_type": "code",
   "execution_count": 14,
   "metadata": {},
   "outputs": [],
   "source": [
    "\n",
    "#a.to_csv(r'input/ghibli_clean.csv',index=False,header=True)\n"
   ]
  },
  {
   "cell_type": "code",
   "execution_count": 15,
   "metadata": {},
   "outputs": [],
   "source": [
    "a[\"score\"] = pd.to_numeric(a[\"score\"])"
   ]
  },
  {
   "cell_type": "code",
   "execution_count": 16,
   "metadata": {},
   "outputs": [
    {
     "data": {
      "text/html": [
       "<div>\n",
       "<style scoped>\n",
       "    .dataframe tbody tr th:only-of-type {\n",
       "        vertical-align: middle;\n",
       "    }\n",
       "\n",
       "    .dataframe tbody tr th {\n",
       "        vertical-align: top;\n",
       "    }\n",
       "\n",
       "    .dataframe thead th {\n",
       "        text-align: right;\n",
       "    }\n",
       "</style>\n",
       "<table border=\"1\" class=\"dataframe\">\n",
       "  <thead>\n",
       "    <tr style=\"text-align: right;\">\n",
       "      <th>director</th>\n",
       "      <th>Gorō Miyazaki</th>\n",
       "      <th>Hayao Miyazaki</th>\n",
       "      <th>Hiromasa Yonebayashi</th>\n",
       "      <th>Hiroyuki Morita</th>\n",
       "      <th>Isao Takahata</th>\n",
       "      <th>Yoshifumi Kondō</th>\n",
       "    </tr>\n",
       "  </thead>\n",
       "  <tbody>\n",
       "    <tr>\n",
       "      <th>score</th>\n",
       "      <td>62.0</td>\n",
       "      <td>92.777778</td>\n",
       "      <td>93.5</td>\n",
       "      <td>89.0</td>\n",
       "      <td>90.0</td>\n",
       "      <td>91.0</td>\n",
       "    </tr>\n",
       "  </tbody>\n",
       "</table>\n",
       "</div>"
      ],
      "text/plain": [
       "director  Gorō Miyazaki  Hayao Miyazaki  Hiromasa Yonebayashi  \\\n",
       "score              62.0       92.777778                  93.5   \n",
       "\n",
       "director  Hiroyuki Morita  Isao Takahata  Yoshifumi Kondō  \n",
       "score                89.0           90.0             91.0  "
      ]
     },
     "execution_count": 16,
     "metadata": {},
     "output_type": "execute_result"
    }
   ],
   "source": [
    "scores=a.groupby('director').agg({'score':'mean'})\n",
    "scores=scores.T\n",
    "scores"
   ]
  },
  {
   "cell_type": "code",
   "execution_count": 17,
   "metadata": {},
   "outputs": [
    {
     "data": {
      "text/plain": [
       "62.0    1\n",
       "Name: Gorō Miyazaki, dtype: int64"
      ]
     },
     "execution_count": 17,
     "metadata": {},
     "output_type": "execute_result"
    }
   ],
   "source": [
    "scores.columns\n",
    "scores['Gorō Miyazaki'].value_counts()\n"
   ]
  },
  {
   "cell_type": "code",
   "execution_count": 18,
   "metadata": {},
   "outputs": [],
   "source": [
    "#scores.to_csv(r'input/scores.csv',index=False,header=True)"
   ]
  }
 ],
 "metadata": {
  "kernelspec": {
   "display_name": "Python 3",
   "language": "python",
   "name": "python3"
  },
  "language_info": {
   "codemirror_mode": {
    "name": "ipython",
    "version": 3
   },
   "file_extension": ".py",
   "mimetype": "text/x-python",
   "name": "python",
   "nbconvert_exporter": "python",
   "pygments_lexer": "ipython3",
   "version": "3.7.6"
  }
 },
 "nbformat": 4,
 "nbformat_minor": 4
}
